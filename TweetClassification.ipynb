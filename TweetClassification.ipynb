{
 "cells": [
  {
   "cell_type": "code",
   "execution_count": 83,
   "metadata": {},
   "outputs": [],
   "source": [
    "import csv\n",
    "import glob\n",
    "import os\n",
    "\n",
    "def getTrainData():\n",
    "    path=\"*train*.tsv\"\n",
    "    trainFiles = glob.glob(os.path.join(\".\", path)) #make list of paths\n",
    "\n",
    "    tsvreader=[]\n",
    "\n",
    "    for fd in trainFiles:\n",
    "        with open(fd) as tsvfile:\n",
    "            tsvreader.extend(csv.reader(tsvfile, delimiter=\"\\t\"))\n",
    "            \n",
    "    return [line[1] for line in tsvreader],[line[2] for line in tsvreader]\n",
    "\n",
    "def peekOnData(x,y):\n",
    "    print \"Previewing the first 10 training data\"\n",
    "    print \".....................................\"\n",
    "    for i in range(1,10):\n",
    "        print \">> \"+ x[i] +\": \"+y[i]+\"\\n\"\n",
    "    \n"
   ]
  },
  {
   "cell_type": "markdown",
   "metadata": {},
   "source": [
    "<font color=\"#cc00ff\" size=\"3\">Reading +peeking on all training data</font>"
   ]
  },
  {
   "cell_type": "code",
   "execution_count": 90,
   "metadata": {},
   "outputs": [],
   "source": [
    "#X_train,Y_train=getTrainData()\n",
    "#peekOnData(X_train[:10],Y_train[:10])"
   ]
  },
  {
   "cell_type": "markdown",
   "metadata": {},
   "source": [
    "<font color=\"#cc00ff\" size=\"3\">Creating Vocabulary</font>"
   ]
  },
  {
   "cell_type": "code",
   "execution_count": 89,
   "metadata": {},
   "outputs": [],
   "source": [
    "from textblob.classifiers import NaiveBayesClassifier"
   ]
  },
  {
   "cell_type": "code",
   "execution_count": null,
   "metadata": {
    "collapsed": true
   },
   "outputs": [],
   "source": []
  }
 ],
 "metadata": {
  "kernelspec": {
   "display_name": "Python 2",
   "language": "python",
   "name": "python2"
  },
  "language_info": {
   "codemirror_mode": {
    "name": "ipython",
    "version": 2
   },
   "file_extension": ".py",
   "mimetype": "text/x-python",
   "name": "python",
   "nbconvert_exporter": "python",
   "pygments_lexer": "ipython2",
   "version": "2.7.14"
  }
 },
 "nbformat": 4,
 "nbformat_minor": 2
}
